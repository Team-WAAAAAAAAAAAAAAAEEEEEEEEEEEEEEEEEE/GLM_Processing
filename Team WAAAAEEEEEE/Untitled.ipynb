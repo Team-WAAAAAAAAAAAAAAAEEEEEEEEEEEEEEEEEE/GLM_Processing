{
 "cells": [
  {
   "cell_type": "code",
   "execution_count": 3,
   "id": "b890c0e0",
   "metadata": {},
   "outputs": [
    {
     "name": "stdout",
     "output_type": "stream",
     "text": [
      "fizz\n",
      "buzz\n",
      "fizz\n",
      "fizz\n",
      "buzz\n",
      "fizz\n",
      "fizzbuzz\n"
     ]
    }
   ],
   "source": [
    "def print_stuff(n):\n",
    "    i = 1\n",
    "    while i <= n:\n",
    "        if (i % 3) + (i % 5) == 0:\n",
    "            print(\"fizzbuzz\")\n",
    "            i+=1\n",
    "            continue\n",
    "        if i % 3 == 0:\n",
    "            print(\"fizz\")\n",
    "        if i % 5 == 0:\n",
    "            print(\"buzz\")\n",
    "        i+=1\n",
    "print_stuff(15)"
   ]
  },
  {
   "cell_type": "code",
   "execution_count": null,
   "id": "6929f7b2",
   "metadata": {},
   "outputs": [],
   "source": []
  }
 ],
 "metadata": {
  "kernelspec": {
   "display_name": "Python 3",
   "language": "python",
   "name": "python3"
  },
  "language_info": {
   "codemirror_mode": {
    "name": "ipython",
    "version": 3
   },
   "file_extension": ".py",
   "mimetype": "text/x-python",
   "name": "python",
   "nbconvert_exporter": "python",
   "pygments_lexer": "ipython3",
   "version": "3.8.8"
  }
 },
 "nbformat": 4,
 "nbformat_minor": 5
}
